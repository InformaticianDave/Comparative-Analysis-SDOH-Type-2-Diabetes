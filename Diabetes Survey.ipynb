{
 "cells": [
  {
   "cell_type": "code",
   "execution_count": 1,
   "id": "b1567db7",
   "metadata": {},
   "outputs": [
    {
     "name": "stderr",
     "output_type": "stream",
     "text": [
      "c:\\Users\\Professor Liu\\AppData\\Local\\Programs\\Python\\Python310\\lib\\site-packages\\tqdm\\auto.py:22: TqdmWarning: IProgress not found. Please update jupyter and ipywidgets. See https://ipywidgets.readthedocs.io/en/stable/user_install.html\n",
      "  from .autonotebook import tqdm as notebook_tqdm\n"
     ]
    }
   ],
   "source": [
    "import numpy as np\n",
    "import pandas as pd\n",
    "import matplotlib.pyplot as plt\n",
    "\n",
    "from pandas_profiling import ProfileReport\n",
    "import pandas_profiling as pp\n",
    "\n",
    "\n",
    "from sklearn.preprocessing import MinMaxScaler\n",
    "from sklearn.model_selection import train_test_split\n",
    "from sklearn.metrics import f1_score\n",
    "\n",
    "from sklearn.linear_model import LogisticRegression\n",
    "from sklearn.svm import SVC\n",
    "from sklearn.neural_network import MLPClassifier\n",
    "from sklearn.ensemble import RandomForestClassifier\n",
    "from sklearn.naive_bayes import GaussianNB\n",
    "from sklearn.neighbors import KNeighborsClassifier\n",
    "\n",
    "from sklearn.metrics import accuracy_score\n",
    "from sklearn.metrics import plot_confusion_matrix\n",
    "from sklearn.metrics import classification_report\n",
    "from sklearn.metrics import precision_score\n",
    "\n",
    "import warnings\n",
    "warnings.filterwarnings('ignore')"
   ]
  },
  {
   "cell_type": "code",
   "execution_count": 2,
   "id": "03d87ddc",
   "metadata": {},
   "outputs": [],
   "source": [
    "data = pd.read_csv('diabetes_survey.csv')"
   ]
  },
  {
   "cell_type": "code",
   "execution_count": 3,
   "id": "783adac0",
   "metadata": {},
   "outputs": [
    {
     "data": {
      "text/html": [
       "<div>\n",
       "<style scoped>\n",
       "    .dataframe tbody tr th:only-of-type {\n",
       "        vertical-align: middle;\n",
       "    }\n",
       "\n",
       "    .dataframe tbody tr th {\n",
       "        vertical-align: top;\n",
       "    }\n",
       "\n",
       "    .dataframe thead th {\n",
       "        text-align: right;\n",
       "    }\n",
       "</style>\n",
       "<table border=\"1\" class=\"dataframe\">\n",
       "  <thead>\n",
       "    <tr style=\"text-align: right;\">\n",
       "      <th></th>\n",
       "      <th>Diabetes_binary</th>\n",
       "      <th>AnyHealthcare</th>\n",
       "      <th>NoDocbcCost</th>\n",
       "      <th>Sex</th>\n",
       "      <th>Age</th>\n",
       "      <th>Education</th>\n",
       "      <th>Income</th>\n",
       "    </tr>\n",
       "  </thead>\n",
       "  <tbody>\n",
       "    <tr>\n",
       "      <th>0</th>\n",
       "      <td>0</td>\n",
       "      <td>1</td>\n",
       "      <td>0</td>\n",
       "      <td>0</td>\n",
       "      <td>9</td>\n",
       "      <td>4</td>\n",
       "      <td>3</td>\n",
       "    </tr>\n",
       "    <tr>\n",
       "      <th>1</th>\n",
       "      <td>0</td>\n",
       "      <td>0</td>\n",
       "      <td>1</td>\n",
       "      <td>0</td>\n",
       "      <td>7</td>\n",
       "      <td>6</td>\n",
       "      <td>1</td>\n",
       "    </tr>\n",
       "    <tr>\n",
       "      <th>2</th>\n",
       "      <td>0</td>\n",
       "      <td>1</td>\n",
       "      <td>1</td>\n",
       "      <td>0</td>\n",
       "      <td>9</td>\n",
       "      <td>4</td>\n",
       "      <td>8</td>\n",
       "    </tr>\n",
       "    <tr>\n",
       "      <th>3</th>\n",
       "      <td>0</td>\n",
       "      <td>1</td>\n",
       "      <td>0</td>\n",
       "      <td>0</td>\n",
       "      <td>11</td>\n",
       "      <td>3</td>\n",
       "      <td>6</td>\n",
       "    </tr>\n",
       "    <tr>\n",
       "      <th>4</th>\n",
       "      <td>0</td>\n",
       "      <td>1</td>\n",
       "      <td>0</td>\n",
       "      <td>0</td>\n",
       "      <td>11</td>\n",
       "      <td>5</td>\n",
       "      <td>4</td>\n",
       "    </tr>\n",
       "    <tr>\n",
       "      <th>...</th>\n",
       "      <td>...</td>\n",
       "      <td>...</td>\n",
       "      <td>...</td>\n",
       "      <td>...</td>\n",
       "      <td>...</td>\n",
       "      <td>...</td>\n",
       "      <td>...</td>\n",
       "    </tr>\n",
       "    <tr>\n",
       "      <th>253675</th>\n",
       "      <td>0</td>\n",
       "      <td>1</td>\n",
       "      <td>0</td>\n",
       "      <td>1</td>\n",
       "      <td>5</td>\n",
       "      <td>6</td>\n",
       "      <td>7</td>\n",
       "    </tr>\n",
       "    <tr>\n",
       "      <th>253676</th>\n",
       "      <td>1</td>\n",
       "      <td>1</td>\n",
       "      <td>0</td>\n",
       "      <td>0</td>\n",
       "      <td>11</td>\n",
       "      <td>2</td>\n",
       "      <td>4</td>\n",
       "    </tr>\n",
       "    <tr>\n",
       "      <th>253677</th>\n",
       "      <td>0</td>\n",
       "      <td>1</td>\n",
       "      <td>0</td>\n",
       "      <td>0</td>\n",
       "      <td>2</td>\n",
       "      <td>5</td>\n",
       "      <td>2</td>\n",
       "    </tr>\n",
       "    <tr>\n",
       "      <th>253678</th>\n",
       "      <td>0</td>\n",
       "      <td>1</td>\n",
       "      <td>0</td>\n",
       "      <td>1</td>\n",
       "      <td>7</td>\n",
       "      <td>5</td>\n",
       "      <td>1</td>\n",
       "    </tr>\n",
       "    <tr>\n",
       "      <th>253679</th>\n",
       "      <td>1</td>\n",
       "      <td>1</td>\n",
       "      <td>0</td>\n",
       "      <td>0</td>\n",
       "      <td>9</td>\n",
       "      <td>6</td>\n",
       "      <td>2</td>\n",
       "    </tr>\n",
       "  </tbody>\n",
       "</table>\n",
       "<p>253680 rows × 7 columns</p>\n",
       "</div>"
      ],
      "text/plain": [
       "        Diabetes_binary  AnyHealthcare  NoDocbcCost  Sex  Age  Education  \\\n",
       "0                     0              1            0    0    9          4   \n",
       "1                     0              0            1    0    7          6   \n",
       "2                     0              1            1    0    9          4   \n",
       "3                     0              1            0    0   11          3   \n",
       "4                     0              1            0    0   11          5   \n",
       "...                 ...            ...          ...  ...  ...        ...   \n",
       "253675                0              1            0    1    5          6   \n",
       "253676                1              1            0    0   11          2   \n",
       "253677                0              1            0    0    2          5   \n",
       "253678                0              1            0    1    7          5   \n",
       "253679                1              1            0    0    9          6   \n",
       "\n",
       "        Income  \n",
       "0            3  \n",
       "1            1  \n",
       "2            8  \n",
       "3            6  \n",
       "4            4  \n",
       "...        ...  \n",
       "253675       7  \n",
       "253676       4  \n",
       "253677       2  \n",
       "253678       1  \n",
       "253679       2  \n",
       "\n",
       "[253680 rows x 7 columns]"
      ]
     },
     "execution_count": 3,
     "metadata": {},
     "output_type": "execute_result"
    }
   ],
   "source": [
    "data"
   ]
  },
  {
   "cell_type": "code",
   "execution_count": 4,
   "id": "5e4af2b3",
   "metadata": {
    "scrolled": true
   },
   "outputs": [
    {
     "data": {
      "text/plain": [
       "Diabetes_binary    0\n",
       "AnyHealthcare      0\n",
       "NoDocbcCost        0\n",
       "Sex                0\n",
       "Age                0\n",
       "Education          0\n",
       "Income             0\n",
       "dtype: int64"
      ]
     },
     "execution_count": 4,
     "metadata": {},
     "output_type": "execute_result"
    }
   ],
   "source": [
    "data.isna().sum()"
   ]
  },
  {
   "cell_type": "code",
   "execution_count": 5,
   "id": "79e5c4e0",
   "metadata": {},
   "outputs": [
    {
     "name": "stdout",
     "output_type": "stream",
     "text": [
      "<class 'pandas.core.frame.DataFrame'>\n",
      "RangeIndex: 253680 entries, 0 to 253679\n",
      "Data columns (total 7 columns):\n",
      " #   Column           Non-Null Count   Dtype\n",
      "---  ------           --------------   -----\n",
      " 0   Diabetes_binary  253680 non-null  int64\n",
      " 1   AnyHealthcare    253680 non-null  int64\n",
      " 2   NoDocbcCost      253680 non-null  int64\n",
      " 3   Sex              253680 non-null  int64\n",
      " 4   Age              253680 non-null  int64\n",
      " 5   Education        253680 non-null  int64\n",
      " 6   Income           253680 non-null  int64\n",
      "dtypes: int64(7)\n",
      "memory usage: 13.5 MB\n"
     ]
    }
   ],
   "source": [
    "data.info()"
   ]
  },
  {
   "cell_type": "code",
   "execution_count": 6,
   "id": "6aa605ae",
   "metadata": {},
   "outputs": [
    {
     "name": "stdout",
     "output_type": "stream",
     "text": [
      "Diabetes_binary: Number of unique values 2\n",
      "AnyHealthcare: Number of unique values 2\n",
      "NoDocbcCost: Number of unique values 2\n",
      "Sex: Number of unique values 2\n",
      "Age: Number of unique values 13\n",
      "Education: Number of unique values 6\n",
      "Income: Number of unique values 8\n"
     ]
    }
   ],
   "source": [
    "for column in data.columns:\n",
    "    print(f\"{column}: Number of unique values {data[column].nunique()}\")"
   ]
  },
  {
   "cell_type": "code",
   "execution_count": 7,
   "id": "ba17edc6",
   "metadata": {},
   "outputs": [
    {
     "data": {
      "text/html": [
       "<div>\n",
       "<style scoped>\n",
       "    .dataframe tbody tr th:only-of-type {\n",
       "        vertical-align: middle;\n",
       "    }\n",
       "\n",
       "    .dataframe tbody tr th {\n",
       "        vertical-align: top;\n",
       "    }\n",
       "\n",
       "    .dataframe thead th {\n",
       "        text-align: right;\n",
       "    }\n",
       "</style>\n",
       "<table border=\"1\" class=\"dataframe\">\n",
       "  <thead>\n",
       "    <tr style=\"text-align: right;\">\n",
       "      <th></th>\n",
       "      <th>Diabetes_binary</th>\n",
       "      <th>AnyHealthcare</th>\n",
       "      <th>NoDocbcCost</th>\n",
       "      <th>Sex</th>\n",
       "      <th>Age</th>\n",
       "      <th>Education</th>\n",
       "      <th>Income</th>\n",
       "    </tr>\n",
       "  </thead>\n",
       "  <tbody>\n",
       "    <tr>\n",
       "      <th>count</th>\n",
       "      <td>253680.000000</td>\n",
       "      <td>253680.000000</td>\n",
       "      <td>253680.000000</td>\n",
       "      <td>253680.000000</td>\n",
       "      <td>253680.000000</td>\n",
       "      <td>253680.000000</td>\n",
       "      <td>253680.000000</td>\n",
       "    </tr>\n",
       "    <tr>\n",
       "      <th>mean</th>\n",
       "      <td>0.139333</td>\n",
       "      <td>0.951053</td>\n",
       "      <td>0.084177</td>\n",
       "      <td>0.440342</td>\n",
       "      <td>8.032119</td>\n",
       "      <td>5.050434</td>\n",
       "      <td>6.053875</td>\n",
       "    </tr>\n",
       "    <tr>\n",
       "      <th>std</th>\n",
       "      <td>0.346294</td>\n",
       "      <td>0.215759</td>\n",
       "      <td>0.277654</td>\n",
       "      <td>0.496429</td>\n",
       "      <td>3.054220</td>\n",
       "      <td>0.985774</td>\n",
       "      <td>2.071148</td>\n",
       "    </tr>\n",
       "    <tr>\n",
       "      <th>min</th>\n",
       "      <td>0.000000</td>\n",
       "      <td>0.000000</td>\n",
       "      <td>0.000000</td>\n",
       "      <td>0.000000</td>\n",
       "      <td>1.000000</td>\n",
       "      <td>1.000000</td>\n",
       "      <td>1.000000</td>\n",
       "    </tr>\n",
       "    <tr>\n",
       "      <th>25%</th>\n",
       "      <td>0.000000</td>\n",
       "      <td>1.000000</td>\n",
       "      <td>0.000000</td>\n",
       "      <td>0.000000</td>\n",
       "      <td>6.000000</td>\n",
       "      <td>4.000000</td>\n",
       "      <td>5.000000</td>\n",
       "    </tr>\n",
       "    <tr>\n",
       "      <th>50%</th>\n",
       "      <td>0.000000</td>\n",
       "      <td>1.000000</td>\n",
       "      <td>0.000000</td>\n",
       "      <td>0.000000</td>\n",
       "      <td>8.000000</td>\n",
       "      <td>5.000000</td>\n",
       "      <td>7.000000</td>\n",
       "    </tr>\n",
       "    <tr>\n",
       "      <th>75%</th>\n",
       "      <td>0.000000</td>\n",
       "      <td>1.000000</td>\n",
       "      <td>0.000000</td>\n",
       "      <td>1.000000</td>\n",
       "      <td>10.000000</td>\n",
       "      <td>6.000000</td>\n",
       "      <td>8.000000</td>\n",
       "    </tr>\n",
       "    <tr>\n",
       "      <th>max</th>\n",
       "      <td>1.000000</td>\n",
       "      <td>1.000000</td>\n",
       "      <td>1.000000</td>\n",
       "      <td>1.000000</td>\n",
       "      <td>13.000000</td>\n",
       "      <td>6.000000</td>\n",
       "      <td>8.000000</td>\n",
       "    </tr>\n",
       "  </tbody>\n",
       "</table>\n",
       "</div>"
      ],
      "text/plain": [
       "       Diabetes_binary  AnyHealthcare    NoDocbcCost            Sex  \\\n",
       "count    253680.000000  253680.000000  253680.000000  253680.000000   \n",
       "mean          0.139333       0.951053       0.084177       0.440342   \n",
       "std           0.346294       0.215759       0.277654       0.496429   \n",
       "min           0.000000       0.000000       0.000000       0.000000   \n",
       "25%           0.000000       1.000000       0.000000       0.000000   \n",
       "50%           0.000000       1.000000       0.000000       0.000000   \n",
       "75%           0.000000       1.000000       0.000000       1.000000   \n",
       "max           1.000000       1.000000       1.000000       1.000000   \n",
       "\n",
       "                 Age      Education         Income  \n",
       "count  253680.000000  253680.000000  253680.000000  \n",
       "mean        8.032119       5.050434       6.053875  \n",
       "std         3.054220       0.985774       2.071148  \n",
       "min         1.000000       1.000000       1.000000  \n",
       "25%         6.000000       4.000000       5.000000  \n",
       "50%         8.000000       5.000000       7.000000  \n",
       "75%        10.000000       6.000000       8.000000  \n",
       "max        13.000000       6.000000       8.000000  "
      ]
     },
     "execution_count": 7,
     "metadata": {},
     "output_type": "execute_result"
    }
   ],
   "source": [
    "data.describe()"
   ]
  },
  {
   "cell_type": "code",
   "execution_count": 8,
   "id": "815452be",
   "metadata": {},
   "outputs": [
    {
     "name": "stdout",
     "output_type": "stream",
     "text": [
      "        Diabetes_binary  AnyHealthcare  NoDocbcCost  Sex  Age  Education  \\\n",
      "0                     0              1            0    0    9          4   \n",
      "1                     0              0            1    0    7          6   \n",
      "2                     0              1            1    0    9          4   \n",
      "3                     0              1            0    0   11          3   \n",
      "4                     0              1            0    0   11          5   \n",
      "...                 ...            ...          ...  ...  ...        ...   \n",
      "253675                0              1            0    1    5          6   \n",
      "253676                1              1            0    0   11          2   \n",
      "253677                0              1            0    0    2          5   \n",
      "253678                0              1            0    1    7          5   \n",
      "253679                1              1            0    0    9          6   \n",
      "\n",
      "        Income  \n",
      "0            3  \n",
      "1            1  \n",
      "2            8  \n",
      "3            6  \n",
      "4            4  \n",
      "...        ...  \n",
      "253675       7  \n",
      "253676       4  \n",
      "253677       2  \n",
      "253678       1  \n",
      "253679       2  \n",
      "\n",
      "[253680 rows x 7 columns]\n"
     ]
    }
   ],
   "source": [
    "# forming dataframe and printing\n",
    "data = pd.DataFrame(data)\n",
    "print(data)\n",
    "  \n"
   ]
  },
  {
   "cell_type": "code",
   "execution_count": 9,
   "id": "4347e8a8",
   "metadata": {},
   "outputs": [
    {
     "name": "stderr",
     "output_type": "stream",
     "text": [
      "Summarize dataset: 100%|██████████| 30/30 [00:14<00:00,  2.11it/s, Completed]                       \n",
      "Generate report structure: 100%|██████████| 1/1 [00:02<00:00,  2.66s/it]\n",
      "Render HTML: 100%|██████████| 1/1 [00:01<00:00,  1.19s/it]\n",
      "Export report to file: 100%|██████████| 1/1 [00:00<00:00, 154.20it/s]\n"
     ]
    }
   ],
   "source": [
    "# forming ProfileReport and save\n",
    "# as output.html file\n",
    "profile = pp.ProfileReport(data)\n",
    "profile.to_file(\"output.html\")"
   ]
  },
  {
   "cell_type": "code",
   "execution_count": 10,
   "id": "029db3f6",
   "metadata": {},
   "outputs": [],
   "source": [
    "y = data ['Diabetes_binary']\n",
    "x = data.drop('Diabetes_binary', axis = 1)"
   ]
  },
  {
   "cell_type": "code",
   "execution_count": 11,
   "id": "80e1760d",
   "metadata": {},
   "outputs": [
    {
     "data": {
      "text/plain": [
       "0         0\n",
       "1         0\n",
       "2         0\n",
       "3         0\n",
       "4         0\n",
       "         ..\n",
       "253675    0\n",
       "253676    1\n",
       "253677    0\n",
       "253678    0\n",
       "253679    1\n",
       "Name: Diabetes_binary, Length: 253680, dtype: int64"
      ]
     },
     "execution_count": 11,
     "metadata": {},
     "output_type": "execute_result"
    }
   ],
   "source": [
    "y"
   ]
  },
  {
   "cell_type": "code",
   "execution_count": 12,
   "id": "af1a3301",
   "metadata": {},
   "outputs": [
    {
     "data": {
      "text/html": [
       "<div>\n",
       "<style scoped>\n",
       "    .dataframe tbody tr th:only-of-type {\n",
       "        vertical-align: middle;\n",
       "    }\n",
       "\n",
       "    .dataframe tbody tr th {\n",
       "        vertical-align: top;\n",
       "    }\n",
       "\n",
       "    .dataframe thead th {\n",
       "        text-align: right;\n",
       "    }\n",
       "</style>\n",
       "<table border=\"1\" class=\"dataframe\">\n",
       "  <thead>\n",
       "    <tr style=\"text-align: right;\">\n",
       "      <th></th>\n",
       "      <th>AnyHealthcare</th>\n",
       "      <th>NoDocbcCost</th>\n",
       "      <th>Sex</th>\n",
       "      <th>Age</th>\n",
       "      <th>Education</th>\n",
       "      <th>Income</th>\n",
       "    </tr>\n",
       "  </thead>\n",
       "  <tbody>\n",
       "    <tr>\n",
       "      <th>0</th>\n",
       "      <td>1</td>\n",
       "      <td>0</td>\n",
       "      <td>0</td>\n",
       "      <td>9</td>\n",
       "      <td>4</td>\n",
       "      <td>3</td>\n",
       "    </tr>\n",
       "    <tr>\n",
       "      <th>1</th>\n",
       "      <td>0</td>\n",
       "      <td>1</td>\n",
       "      <td>0</td>\n",
       "      <td>7</td>\n",
       "      <td>6</td>\n",
       "      <td>1</td>\n",
       "    </tr>\n",
       "    <tr>\n",
       "      <th>2</th>\n",
       "      <td>1</td>\n",
       "      <td>1</td>\n",
       "      <td>0</td>\n",
       "      <td>9</td>\n",
       "      <td>4</td>\n",
       "      <td>8</td>\n",
       "    </tr>\n",
       "    <tr>\n",
       "      <th>3</th>\n",
       "      <td>1</td>\n",
       "      <td>0</td>\n",
       "      <td>0</td>\n",
       "      <td>11</td>\n",
       "      <td>3</td>\n",
       "      <td>6</td>\n",
       "    </tr>\n",
       "    <tr>\n",
       "      <th>4</th>\n",
       "      <td>1</td>\n",
       "      <td>0</td>\n",
       "      <td>0</td>\n",
       "      <td>11</td>\n",
       "      <td>5</td>\n",
       "      <td>4</td>\n",
       "    </tr>\n",
       "    <tr>\n",
       "      <th>...</th>\n",
       "      <td>...</td>\n",
       "      <td>...</td>\n",
       "      <td>...</td>\n",
       "      <td>...</td>\n",
       "      <td>...</td>\n",
       "      <td>...</td>\n",
       "    </tr>\n",
       "    <tr>\n",
       "      <th>253675</th>\n",
       "      <td>1</td>\n",
       "      <td>0</td>\n",
       "      <td>1</td>\n",
       "      <td>5</td>\n",
       "      <td>6</td>\n",
       "      <td>7</td>\n",
       "    </tr>\n",
       "    <tr>\n",
       "      <th>253676</th>\n",
       "      <td>1</td>\n",
       "      <td>0</td>\n",
       "      <td>0</td>\n",
       "      <td>11</td>\n",
       "      <td>2</td>\n",
       "      <td>4</td>\n",
       "    </tr>\n",
       "    <tr>\n",
       "      <th>253677</th>\n",
       "      <td>1</td>\n",
       "      <td>0</td>\n",
       "      <td>0</td>\n",
       "      <td>2</td>\n",
       "      <td>5</td>\n",
       "      <td>2</td>\n",
       "    </tr>\n",
       "    <tr>\n",
       "      <th>253678</th>\n",
       "      <td>1</td>\n",
       "      <td>0</td>\n",
       "      <td>1</td>\n",
       "      <td>7</td>\n",
       "      <td>5</td>\n",
       "      <td>1</td>\n",
       "    </tr>\n",
       "    <tr>\n",
       "      <th>253679</th>\n",
       "      <td>1</td>\n",
       "      <td>0</td>\n",
       "      <td>0</td>\n",
       "      <td>9</td>\n",
       "      <td>6</td>\n",
       "      <td>2</td>\n",
       "    </tr>\n",
       "  </tbody>\n",
       "</table>\n",
       "<p>253680 rows × 6 columns</p>\n",
       "</div>"
      ],
      "text/plain": [
       "        AnyHealthcare  NoDocbcCost  Sex  Age  Education  Income\n",
       "0                   1            0    0    9          4       3\n",
       "1                   0            1    0    7          6       1\n",
       "2                   1            1    0    9          4       8\n",
       "3                   1            0    0   11          3       6\n",
       "4                   1            0    0   11          5       4\n",
       "...               ...          ...  ...  ...        ...     ...\n",
       "253675              1            0    1    5          6       7\n",
       "253676              1            0    0   11          2       4\n",
       "253677              1            0    0    2          5       2\n",
       "253678              1            0    1    7          5       1\n",
       "253679              1            0    0    9          6       2\n",
       "\n",
       "[253680 rows x 6 columns]"
      ]
     },
     "execution_count": 12,
     "metadata": {},
     "output_type": "execute_result"
    }
   ],
   "source": [
    "x"
   ]
  },
  {
   "cell_type": "code",
   "execution_count": 13,
   "id": "8aa783c2",
   "metadata": {},
   "outputs": [],
   "source": [
    "scaler = MinMaxScaler()\n",
    "x = scaler.fit_transform(x)"
   ]
  },
  {
   "cell_type": "code",
   "execution_count": 14,
   "id": "a25eb4b8",
   "metadata": {},
   "outputs": [
    {
     "data": {
      "text/html": [
       "<div>\n",
       "<style scoped>\n",
       "    .dataframe tbody tr th:only-of-type {\n",
       "        vertical-align: middle;\n",
       "    }\n",
       "\n",
       "    .dataframe tbody tr th {\n",
       "        vertical-align: top;\n",
       "    }\n",
       "\n",
       "    .dataframe thead th {\n",
       "        text-align: right;\n",
       "    }\n",
       "</style>\n",
       "<table border=\"1\" class=\"dataframe\">\n",
       "  <thead>\n",
       "    <tr style=\"text-align: right;\">\n",
       "      <th></th>\n",
       "      <th>0</th>\n",
       "      <th>1</th>\n",
       "      <th>2</th>\n",
       "      <th>3</th>\n",
       "      <th>4</th>\n",
       "      <th>5</th>\n",
       "    </tr>\n",
       "  </thead>\n",
       "  <tbody>\n",
       "    <tr>\n",
       "      <th>0</th>\n",
       "      <td>1.0</td>\n",
       "      <td>0.0</td>\n",
       "      <td>0.0</td>\n",
       "      <td>0.666667</td>\n",
       "      <td>0.6</td>\n",
       "      <td>0.285714</td>\n",
       "    </tr>\n",
       "    <tr>\n",
       "      <th>1</th>\n",
       "      <td>0.0</td>\n",
       "      <td>1.0</td>\n",
       "      <td>0.0</td>\n",
       "      <td>0.500000</td>\n",
       "      <td>1.0</td>\n",
       "      <td>0.000000</td>\n",
       "    </tr>\n",
       "    <tr>\n",
       "      <th>2</th>\n",
       "      <td>1.0</td>\n",
       "      <td>1.0</td>\n",
       "      <td>0.0</td>\n",
       "      <td>0.666667</td>\n",
       "      <td>0.6</td>\n",
       "      <td>1.000000</td>\n",
       "    </tr>\n",
       "    <tr>\n",
       "      <th>3</th>\n",
       "      <td>1.0</td>\n",
       "      <td>0.0</td>\n",
       "      <td>0.0</td>\n",
       "      <td>0.833333</td>\n",
       "      <td>0.4</td>\n",
       "      <td>0.714286</td>\n",
       "    </tr>\n",
       "    <tr>\n",
       "      <th>4</th>\n",
       "      <td>1.0</td>\n",
       "      <td>0.0</td>\n",
       "      <td>0.0</td>\n",
       "      <td>0.833333</td>\n",
       "      <td>0.8</td>\n",
       "      <td>0.428571</td>\n",
       "    </tr>\n",
       "    <tr>\n",
       "      <th>...</th>\n",
       "      <td>...</td>\n",
       "      <td>...</td>\n",
       "      <td>...</td>\n",
       "      <td>...</td>\n",
       "      <td>...</td>\n",
       "      <td>...</td>\n",
       "    </tr>\n",
       "    <tr>\n",
       "      <th>253675</th>\n",
       "      <td>1.0</td>\n",
       "      <td>0.0</td>\n",
       "      <td>1.0</td>\n",
       "      <td>0.333333</td>\n",
       "      <td>1.0</td>\n",
       "      <td>0.857143</td>\n",
       "    </tr>\n",
       "    <tr>\n",
       "      <th>253676</th>\n",
       "      <td>1.0</td>\n",
       "      <td>0.0</td>\n",
       "      <td>0.0</td>\n",
       "      <td>0.833333</td>\n",
       "      <td>0.2</td>\n",
       "      <td>0.428571</td>\n",
       "    </tr>\n",
       "    <tr>\n",
       "      <th>253677</th>\n",
       "      <td>1.0</td>\n",
       "      <td>0.0</td>\n",
       "      <td>0.0</td>\n",
       "      <td>0.083333</td>\n",
       "      <td>0.8</td>\n",
       "      <td>0.142857</td>\n",
       "    </tr>\n",
       "    <tr>\n",
       "      <th>253678</th>\n",
       "      <td>1.0</td>\n",
       "      <td>0.0</td>\n",
       "      <td>1.0</td>\n",
       "      <td>0.500000</td>\n",
       "      <td>0.8</td>\n",
       "      <td>0.000000</td>\n",
       "    </tr>\n",
       "    <tr>\n",
       "      <th>253679</th>\n",
       "      <td>1.0</td>\n",
       "      <td>0.0</td>\n",
       "      <td>0.0</td>\n",
       "      <td>0.666667</td>\n",
       "      <td>1.0</td>\n",
       "      <td>0.142857</td>\n",
       "    </tr>\n",
       "  </tbody>\n",
       "</table>\n",
       "<p>253680 rows × 6 columns</p>\n",
       "</div>"
      ],
      "text/plain": [
       "          0    1    2         3    4         5\n",
       "0       1.0  0.0  0.0  0.666667  0.6  0.285714\n",
       "1       0.0  1.0  0.0  0.500000  1.0  0.000000\n",
       "2       1.0  1.0  0.0  0.666667  0.6  1.000000\n",
       "3       1.0  0.0  0.0  0.833333  0.4  0.714286\n",
       "4       1.0  0.0  0.0  0.833333  0.8  0.428571\n",
       "...     ...  ...  ...       ...  ...       ...\n",
       "253675  1.0  0.0  1.0  0.333333  1.0  0.857143\n",
       "253676  1.0  0.0  0.0  0.833333  0.2  0.428571\n",
       "253677  1.0  0.0  0.0  0.083333  0.8  0.142857\n",
       "253678  1.0  0.0  1.0  0.500000  0.8  0.000000\n",
       "253679  1.0  0.0  0.0  0.666667  1.0  0.142857\n",
       "\n",
       "[253680 rows x 6 columns]"
      ]
     },
     "execution_count": 14,
     "metadata": {},
     "output_type": "execute_result"
    }
   ],
   "source": [
    "pd.DataFrame(x)"
   ]
  },
  {
   "cell_type": "code",
   "execution_count": 15,
   "id": "aeb7085a",
   "metadata": {},
   "outputs": [],
   "source": [
    "x_train, x_test, y_train, y_test = train_test_split(x, y, train_size= 0.70)"
   ]
  },
  {
   "cell_type": "code",
   "execution_count": 16,
   "id": "49d98cf9",
   "metadata": {},
   "outputs": [],
   "source": [
    "from sklearn.model_selection import train_test_split\n",
    "from sklearn.linear_model import LogisticRegression\n",
    "from sklearn.neural_network import MLPClassifier\n",
    "from sklearn.ensemble import RandomForestClassifier\n",
    "from sklearn.naive_bayes import GaussianNB\n",
    "from sklearn.neighbors import KNeighborsClassifier\n",
    "from sklearn.tree import DecisionTreeClassifier\n",
    "\n",
    "from sklearn.metrics import accuracy_score\n",
    "from sklearn.metrics import plot_confusion_matrix\n",
    "from sklearn.metrics import classification_report\n",
    "from sklearn.metrics import precision_score\n",
    "from sklearn.metrics import f1_score\n",
    "import matplotlib.pyplot as plt\n",
    "from sklearn import metrics"
   ]
  },
  {
   "cell_type": "code",
   "execution_count": 17,
   "id": "9a6cd52a",
   "metadata": {},
   "outputs": [],
   "source": [
    "# from sklearn.linear_model import LogisticRegression\n",
    "log_model = LogisticRegression()\n",
    "log_model.fit(x_train, y_train)\n",
    "\n",
    "log_reg_ypred = log_model.predict(x_test)\n",
    "logf1 = f1_score(y_test, log_reg_ypred)"
   ]
  },
  {
   "cell_type": "code",
   "execution_count": 18,
   "id": "7210b935",
   "metadata": {},
   "outputs": [
    {
     "name": "stdout",
     "output_type": "stream",
     "text": [
      "              precision    recall  f1-score   support\n",
      "\n",
      "           0       0.86      1.00      0.92     65480\n",
      "           1       0.31      0.00      0.01     10624\n",
      "\n",
      "    accuracy                           0.86     76104\n",
      "   macro avg       0.59      0.50      0.47     76104\n",
      "weighted avg       0.78      0.86      0.80     76104\n",
      "\n"
     ]
    }
   ],
   "source": [
    "print(classification_report(y_test, log_reg_ypred))"
   ]
  },
  {
   "cell_type": "code",
   "execution_count": 19,
   "id": "5d75ddf2",
   "metadata": {},
   "outputs": [],
   "source": [
    "plot_confusion_matrix(log_model, x_test, y_test)\n",
    "plt.show\n",
    "plt.title('Logistical_Regression')\n",
    "plt.savefig(\"Logistical_Regression.png\")"
   ]
  },
  {
   "cell_type": "code",
   "execution_count": 20,
   "id": "97efc5e6",
   "metadata": {},
   "outputs": [],
   "source": [
    "# from sklearn.neural_network import MLPClassifier\n",
    "MLP_model = MLPClassifier()\n",
    "MLP_model.fit(x_train, y_train)\n",
    "\n",
    "MLP_ypred = MLP_model.predict(x_test)\n",
    "MLPf1 = f1_score(y_test, MLP_ypred)"
   ]
  },
  {
   "cell_type": "code",
   "execution_count": 21,
   "id": "c55d70b0",
   "metadata": {},
   "outputs": [
    {
     "name": "stdout",
     "output_type": "stream",
     "text": [
      "              precision    recall  f1-score   support\n",
      "\n",
      "           0       0.86      1.00      0.92     65480\n",
      "           1       0.00      0.00      0.00     10624\n",
      "\n",
      "    accuracy                           0.86     76104\n",
      "   macro avg       0.43      0.50      0.46     76104\n",
      "weighted avg       0.74      0.86      0.80     76104\n",
      "\n"
     ]
    }
   ],
   "source": [
    "print(classification_report(y_test, MLP_ypred))"
   ]
  },
  {
   "cell_type": "code",
   "execution_count": 22,
   "id": "f915a848",
   "metadata": {},
   "outputs": [],
   "source": [
    "plot_confusion_matrix(MLP_model, x_test, y_test)\n",
    "plt.show\n",
    "plt.title('MLPClassifier')\n",
    "plt.savefig(\"MLPClassifier.png\")"
   ]
  },
  {
   "cell_type": "code",
   "execution_count": 23,
   "id": "a9936a8f",
   "metadata": {},
   "outputs": [],
   "source": [
    "# from sklearn.ensemble import RandomForestClassifier\n",
    "RFC_model = RandomForestClassifier()\n",
    "RFC_model.fit(x_train, y_train)\n",
    "\n",
    "RFC_ypred = MLP_model.predict(x_test)\n",
    "RFCf1 = f1_score(y_test, RFC_ypred)"
   ]
  },
  {
   "cell_type": "code",
   "execution_count": 24,
   "id": "b04a9a3d",
   "metadata": {},
   "outputs": [
    {
     "name": "stdout",
     "output_type": "stream",
     "text": [
      "              precision    recall  f1-score   support\n",
      "\n",
      "           0       0.86      1.00      0.92     65480\n",
      "           1       0.00      0.00      0.00     10624\n",
      "\n",
      "    accuracy                           0.86     76104\n",
      "   macro avg       0.43      0.50      0.46     76104\n",
      "weighted avg       0.74      0.86      0.80     76104\n",
      "\n"
     ]
    }
   ],
   "source": [
    "print(classification_report(y_test, RFC_ypred))"
   ]
  },
  {
   "cell_type": "code",
   "execution_count": 25,
   "id": "83cb5bbe",
   "metadata": {},
   "outputs": [],
   "source": [
    "plot_confusion_matrix(RFC_model, x_test, y_test)\n",
    "plt.show\n",
    "plt.title('RandomForestClassifier')\n",
    "plt.savefig(\"RandomForestClassifier.png\")"
   ]
  },
  {
   "cell_type": "code",
   "execution_count": 26,
   "id": "c30cdf42",
   "metadata": {},
   "outputs": [],
   "source": [
    "# from sklearn.naive_bayes import GaussianNB\n",
    "GNB_model = GaussianNB()\n",
    "GNB_model.fit(x_train, y_train)\n",
    "\n",
    "GNB_ypred = GNB_model.predict(x_test)\n",
    "GNBf1 = f1_score(y_test, GNB_ypred)"
   ]
  },
  {
   "cell_type": "code",
   "execution_count": 27,
   "id": "2c06f331",
   "metadata": {},
   "outputs": [
    {
     "name": "stdout",
     "output_type": "stream",
     "text": [
      "              precision    recall  f1-score   support\n",
      "\n",
      "           0       0.87      0.96      0.91     65480\n",
      "           1       0.31      0.12      0.17     10624\n",
      "\n",
      "    accuracy                           0.84     76104\n",
      "   macro avg       0.59      0.54      0.54     76104\n",
      "weighted avg       0.79      0.84      0.81     76104\n",
      "\n"
     ]
    }
   ],
   "source": [
    "print(classification_report(y_test, GNB_ypred))"
   ]
  },
  {
   "cell_type": "code",
   "execution_count": 28,
   "id": "7239af43",
   "metadata": {},
   "outputs": [],
   "source": [
    "plot_confusion_matrix(GNB_model, x_test, y_test)\n",
    "plt.show\n",
    "plt.title('GaussianNB')\n",
    "plt.savefig(\"GaussianNB.png\")"
   ]
  },
  {
   "cell_type": "code",
   "execution_count": 29,
   "id": "ffd5d696",
   "metadata": {},
   "outputs": [],
   "source": [
    "# from sklearn.neighbors import KNeighborsClassifier\n",
    "KNN_model = KNeighborsClassifier()\n",
    "KNN_model.fit(x_train, y_train)\n",
    "\n",
    "KNN_ypred = KNN_model.predict(x_test)\n",
    "KNNf1 = f1_score(y_test, KNN_ypred)"
   ]
  },
  {
   "cell_type": "code",
   "execution_count": 30,
   "id": "2e8cc429",
   "metadata": {},
   "outputs": [
    {
     "name": "stdout",
     "output_type": "stream",
     "text": [
      "              precision    recall  f1-score   support\n",
      "\n",
      "           0       0.87      0.96      0.91     65480\n",
      "           1       0.25      0.09      0.13     10624\n",
      "\n",
      "    accuracy                           0.84     76104\n",
      "   macro avg       0.56      0.52      0.52     76104\n",
      "weighted avg       0.78      0.84      0.80     76104\n",
      "\n"
     ]
    }
   ],
   "source": [
    "print(classification_report(y_test, KNN_ypred))"
   ]
  },
  {
   "cell_type": "code",
   "execution_count": 31,
   "id": "18644edb",
   "metadata": {},
   "outputs": [],
   "source": [
    "plot_confusion_matrix(KNN_model, x_test, y_test)\n",
    "plt.show\n",
    "plt.title('KNeighborsClassifier')\n",
    "plt.savefig(\"KNeighborsClassifier.png\")"
   ]
  },
  {
   "cell_type": "code",
   "execution_count": 32,
   "id": "6a77a266",
   "metadata": {},
   "outputs": [],
   "source": [
    "# from sklearn.tree import DecisionTreeClassifier\n",
    "DTC_model = DecisionTreeClassifier()\n",
    "DTC_model.fit(x_train, y_train)\n",
    "\n",
    "DTC_ypred = DTC_model.predict(x_test)\n",
    "DTCf1 = f1_score(y_test, DTC_ypred)"
   ]
  },
  {
   "cell_type": "code",
   "execution_count": 33,
   "id": "f073943c",
   "metadata": {},
   "outputs": [
    {
     "name": "stdout",
     "output_type": "stream",
     "text": [
      "              precision    recall  f1-score   support\n",
      "\n",
      "           0       0.86      1.00      0.92     65480\n",
      "           1       0.33      0.01      0.02     10624\n",
      "\n",
      "    accuracy                           0.86     76104\n",
      "   macro avg       0.59      0.50      0.47     76104\n",
      "weighted avg       0.79      0.86      0.80     76104\n",
      "\n"
     ]
    }
   ],
   "source": [
    "print(classification_report(y_test, DTC_ypred))"
   ]
  },
  {
   "cell_type": "code",
   "execution_count": 34,
   "id": "0b9427d5",
   "metadata": {},
   "outputs": [],
   "source": [
    "plot_confusion_matrix(DTC_model, x_test, y_test)\n",
    "plt.show\n",
    "plt.title('DecisionTreeClassifier')\n",
    "plt.savefig(\"DecisionTreeClassifier.png\")"
   ]
  },
  {
   "cell_type": "code",
   "execution_count": 35,
   "id": "87cbbf7b",
   "metadata": {},
   "outputs": [
    {
     "name": "stdout",
     "output_type": "stream",
     "text": [
      "LogisticRegrsssion: trained\n",
      "MLP Classifier: trained\n",
      "RandomForestClassifier: trained\n",
      "GaussianNB: trained\n",
      "KNeighborsClassifier: trained\n",
      "Decision Tree Classifier: trained\n"
     ]
    }
   ],
   "source": [
    "all_models= {\n",
    "    'LogisticRegrsssion': LogisticRegression(),\n",
    "    'MLP Classifier' : MLPClassifier(),\n",
    "    'RandomForestClassifier': RandomForestClassifier(),\n",
    "    'GaussianNB': GaussianNB(),\n",
    "    'KNeighborsClassifier': KNeighborsClassifier(),\n",
    "    'Decision Tree Classifier' : DecisionTreeClassifier()\n",
    "    \n",
    "        \n",
    "   \n",
    "}\n",
    "for name,model in all_models.items():\n",
    "    model.fit(x_train,y_train)\n",
    "    print(name+ ': trained')"
   ]
  },
  {
   "cell_type": "markdown",
   "id": "1a935a8c",
   "metadata": {},
   "source": [
    "Accuracy Scores"
   ]
  },
  {
   "cell_type": "code",
   "execution_count": 36,
   "id": "05749dcb",
   "metadata": {
    "scrolled": false
   },
   "outputs": [
    {
     "name": "stdout",
     "output_type": "stream",
     "text": [
      "Accuracy of LogisticRegrsssion: 85.99%\n",
      "Accuracy of MLP Classifier: 86.04%\n",
      "Accuracy of RandomForestClassifier: 85.83%\n",
      "Accuracy of GaussianNB: 83.97%\n",
      "Accuracy of KNeighborsClassifier: 83.60%\n",
      "Accuracy of Decision Tree Classifier: 85.88%\n"
     ]
    }
   ],
   "source": [
    "for name,model in all_models.items():\n",
    "    print('Accuracy of ' +name+ \": {:.2f}%\".format(model.score(x_test,y_test) * 100))"
   ]
  },
  {
   "cell_type": "markdown",
   "id": "63a6fcc5",
   "metadata": {},
   "source": [
    "F1 Scores"
   ]
  },
  {
   "cell_type": "code",
   "execution_count": 37,
   "id": "f6093639",
   "metadata": {},
   "outputs": [
    {
     "name": "stdout",
     "output_type": "stream",
     "text": [
      "Logistic Regression:\n",
      "F1 Score: 0.54%\n",
      "\n",
      "MLP Classifier:\n",
      "F1 Score: 0.00%\n",
      "\n",
      "RandomForestClassifier:\n",
      "F1 Score: 0.00%\n",
      "\n",
      "GaussianNB:\n",
      "F1 Score: 17.16%\n",
      "\n",
      "KNeighborsClassifier:\n",
      "F1 Score: 13.10%\n",
      "\n",
      "Decision Tree Classifier:\n",
      "F1 Score: 2.18%\n",
      "\n"
     ]
    }
   ],
   "source": [
    "print(f\"Logistic Regression:\\nF1 Score: {logf1*100:.2f}%\\n\")\n",
    "print(f\"MLP Classifier:\\nF1 Score: {MLPf1*100:.2f}%\\n\")\n",
    "print(f\"RandomForestClassifier:\\nF1 Score: {RFCf1*100:.2f}%\\n\")\n",
    "print(f\"GaussianNB:\\nF1 Score: {GNBf1*100 :.2f}%\\n\")\n",
    "print(f\"KNeighborsClassifier:\\nF1 Score: {KNNf1*100 :.2f}%\\n\")\n",
    "print(f\"Decision Tree Classifier:\\nF1 Score: {DTCf1*100:.2f}%\\n\")\n"
   ]
  },
  {
   "cell_type": "code",
   "execution_count": 38,
   "id": "8bd75bd0",
   "metadata": {},
   "outputs": [],
   "source": [
    "#set up plotting area\n",
    "plt.figure(0).clf()\n",
    "\n",
    "#fit logistic regression model and plot ROC curve\n",
    "model = LogisticRegression()\n",
    "model.fit(x_train, y_train)\n",
    "y_pred = model.predict_proba(x_test)[:, 1]\n",
    "fpr, tpr, _ = metrics.roc_curve(y_test, y_pred)\n",
    "auc = round(metrics.roc_auc_score(y_test, y_pred), 4)\n",
    "plt.plot(fpr,tpr,label=\"Logistic Regression, AUC=\"+str(auc))\n",
    "\n",
    "#fit MLPClassifier and plot ROC curve\n",
    "model2 = MLPClassifier()\n",
    "model2.fit(x_train, y_train)\n",
    "y_pred = model2.predict_proba(x_test)[:, 1]\n",
    "fpr, tpr, _ = metrics.roc_curve(y_test, y_pred)\n",
    "auc = round(metrics.roc_auc_score(y_test, y_pred), 4)\n",
    "plt.plot(fpr,tpr,label=\"MLP Classifier , AUC=\"+str(auc))\n",
    "\n",
    "#fit RandomForestClassifier and plot ROC curve\n",
    "model3 = RandomForestClassifier()\n",
    "model3.fit(x_train, y_train)\n",
    "y_pred = model3.predict_proba(x_test)[:, 1]\n",
    "fpr, tpr, _ = metrics.roc_curve(y_test, y_pred)\n",
    "auc = round(metrics.roc_auc_score(y_test, y_pred), 4)\n",
    "plt.plot(fpr,tpr,label=\"Random Forrest Classifier, AUC=\"+str(auc))\n",
    "\n",
    "#fit GaussianNB and plot ROC curve\n",
    "model4 = GaussianNB()\n",
    "model4.fit(x_train, y_train)\n",
    "y_pred = model4.predict_proba(x_test)[:, 1]\n",
    "fpr, tpr, _ = metrics.roc_curve(y_test, y_pred)\n",
    "auc = round(metrics.roc_auc_score(y_test, y_pred), 4)\n",
    "plt.plot(fpr,tpr,label=\"GaussianNB, AUC=\"+str(auc))\n",
    "\n",
    "#fit KNeighborsClassifier and plot ROC curve\n",
    "model5 = KNeighborsClassifier()\n",
    "model5.fit(x_train, y_train)\n",
    "y_pred = model5.predict_proba(x_test)[:, 1]\n",
    "fpr, tpr, _ = metrics.roc_curve(y_test, y_pred)\n",
    "auc = round(metrics.roc_auc_score(y_test, y_pred), 4)\n",
    "plt.plot(fpr,tpr,label=\"KNeighbors Classifier, AUC=\"+str(auc))\n",
    "\n",
    "#fit DecisionTreeClassifier and plot ROC curve\n",
    "model5 = DecisionTreeClassifier()\n",
    "model5.fit(x_train, y_train)\n",
    "y_pred = model5.predict_proba(x_test)[:, 1]\n",
    "fpr, tpr, _ = metrics.roc_curve(y_test, y_pred)\n",
    "auc = round(metrics.roc_auc_score(y_test, y_pred), 4)\n",
    "plt.plot(fpr,tpr,label=\"Decision Tree Classifier, AUC=\"+str(auc))\n",
    "\n",
    "\n",
    "#add legend\n",
    "plt.legend()\n",
    "\n",
    "plt.show()\n",
    "plt.title('ROC Curve for All Classification Models')\n",
    "plt.savefig(\"ROC Curve.png\")"
   ]
  },
  {
   "attachments": {},
   "cell_type": "markdown",
   "id": "7783081d",
   "metadata": {},
   "source": [
    "Deploying MLP Classifier Model using Streamlit"
   ]
  },
  {
   "cell_type": "code",
   "execution_count": 40,
   "id": "aaf70234",
   "metadata": {},
   "outputs": [],
   "source": [
    "x_train, x_test, y_train, y_test = train_test_split(x, y, train_size= 0.70, stratify = y, random_state=2)"
   ]
  },
  {
   "cell_type": "code",
   "execution_count": 41,
   "id": "cf153b74",
   "metadata": {},
   "outputs": [
    {
     "name": "stdout",
     "output_type": "stream",
     "text": [
      "(253680, 6) (177576, 6) (76104, 6)\n"
     ]
    }
   ],
   "source": [
    "print(x.shape, x_train.shape, x_test.shape)"
   ]
  },
  {
   "attachments": {},
   "cell_type": "markdown",
   "id": "9abff73f",
   "metadata": {},
   "source": [
    "# MLPClassifier has two hidden layers with 100 neurons each, and it uses the Adam optimization algorithm with a learning rate of 0.001 and L2 regularization with a strength of 0.01. The batch size is 128, and the model is trained for a maximum of 200 epochs"
   ]
  },
  {
   "cell_type": "code",
   "execution_count": 42,
   "id": "4a903194",
   "metadata": {},
   "outputs": [],
   "source": [
    "classifier = MLPClassifier(hidden_layer_sizes=(100,100), activation='relu', solver='adam', learning_rate_init=0.001, alpha=0.01, batch_size=128, max_iter=200)"
   ]
  },
  {
   "cell_type": "code",
   "execution_count": 46,
   "id": "a67eefb5",
   "metadata": {},
   "outputs": [
    {
     "data": {
      "text/html": [
       "<style>#sk-container-id-3 {color: black;background-color: white;}#sk-container-id-3 pre{padding: 0;}#sk-container-id-3 div.sk-toggleable {background-color: white;}#sk-container-id-3 label.sk-toggleable__label {cursor: pointer;display: block;width: 100%;margin-bottom: 0;padding: 0.3em;box-sizing: border-box;text-align: center;}#sk-container-id-3 label.sk-toggleable__label-arrow:before {content: \"▸\";float: left;margin-right: 0.25em;color: #696969;}#sk-container-id-3 label.sk-toggleable__label-arrow:hover:before {color: black;}#sk-container-id-3 div.sk-estimator:hover label.sk-toggleable__label-arrow:before {color: black;}#sk-container-id-3 div.sk-toggleable__content {max-height: 0;max-width: 0;overflow: hidden;text-align: left;background-color: #f0f8ff;}#sk-container-id-3 div.sk-toggleable__content pre {margin: 0.2em;color: black;border-radius: 0.25em;background-color: #f0f8ff;}#sk-container-id-3 input.sk-toggleable__control:checked~div.sk-toggleable__content {max-height: 200px;max-width: 100%;overflow: auto;}#sk-container-id-3 input.sk-toggleable__control:checked~label.sk-toggleable__label-arrow:before {content: \"▾\";}#sk-container-id-3 div.sk-estimator input.sk-toggleable__control:checked~label.sk-toggleable__label {background-color: #d4ebff;}#sk-container-id-3 div.sk-label input.sk-toggleable__control:checked~label.sk-toggleable__label {background-color: #d4ebff;}#sk-container-id-3 input.sk-hidden--visually {border: 0;clip: rect(1px 1px 1px 1px);clip: rect(1px, 1px, 1px, 1px);height: 1px;margin: -1px;overflow: hidden;padding: 0;position: absolute;width: 1px;}#sk-container-id-3 div.sk-estimator {font-family: monospace;background-color: #f0f8ff;border: 1px dotted black;border-radius: 0.25em;box-sizing: border-box;margin-bottom: 0.5em;}#sk-container-id-3 div.sk-estimator:hover {background-color: #d4ebff;}#sk-container-id-3 div.sk-parallel-item::after {content: \"\";width: 100%;border-bottom: 1px solid gray;flex-grow: 1;}#sk-container-id-3 div.sk-label:hover label.sk-toggleable__label {background-color: #d4ebff;}#sk-container-id-3 div.sk-serial::before {content: \"\";position: absolute;border-left: 1px solid gray;box-sizing: border-box;top: 0;bottom: 0;left: 50%;z-index: 0;}#sk-container-id-3 div.sk-serial {display: flex;flex-direction: column;align-items: center;background-color: white;padding-right: 0.2em;padding-left: 0.2em;position: relative;}#sk-container-id-3 div.sk-item {position: relative;z-index: 1;}#sk-container-id-3 div.sk-parallel {display: flex;align-items: stretch;justify-content: center;background-color: white;position: relative;}#sk-container-id-3 div.sk-item::before, #sk-container-id-3 div.sk-parallel-item::before {content: \"\";position: absolute;border-left: 1px solid gray;box-sizing: border-box;top: 0;bottom: 0;left: 50%;z-index: -1;}#sk-container-id-3 div.sk-parallel-item {display: flex;flex-direction: column;z-index: 1;position: relative;background-color: white;}#sk-container-id-3 div.sk-parallel-item:first-child::after {align-self: flex-end;width: 50%;}#sk-container-id-3 div.sk-parallel-item:last-child::after {align-self: flex-start;width: 50%;}#sk-container-id-3 div.sk-parallel-item:only-child::after {width: 0;}#sk-container-id-3 div.sk-dashed-wrapped {border: 1px dashed gray;margin: 0 0.4em 0.5em 0.4em;box-sizing: border-box;padding-bottom: 0.4em;background-color: white;}#sk-container-id-3 div.sk-label label {font-family: monospace;font-weight: bold;display: inline-block;line-height: 1.2em;}#sk-container-id-3 div.sk-label-container {text-align: center;}#sk-container-id-3 div.sk-container {/* jupyter's `normalize.less` sets `[hidden] { display: none; }` but bootstrap.min.css set `[hidden] { display: none !important; }` so we also need the `!important` here to be able to override the default hidden behavior on the sphinx rendered scikit-learn.org. See: https://github.com/scikit-learn/scikit-learn/issues/21755 */display: inline-block !important;position: relative;}#sk-container-id-3 div.sk-text-repr-fallback {display: none;}</style><div id=\"sk-container-id-3\" class=\"sk-top-container\"><div class=\"sk-text-repr-fallback\"><pre>MLPClassifier()</pre><b>In a Jupyter environment, please rerun this cell to show the HTML representation or trust the notebook. <br />On GitHub, the HTML representation is unable to render, please try loading this page with nbviewer.org.</b></div><div class=\"sk-container\" hidden><div class=\"sk-item\"><div class=\"sk-estimator sk-toggleable\"><input class=\"sk-toggleable__control sk-hidden--visually\" id=\"sk-estimator-id-3\" type=\"checkbox\" checked><label for=\"sk-estimator-id-3\" class=\"sk-toggleable__label sk-toggleable__label-arrow\">MLPClassifier</label><div class=\"sk-toggleable__content\"><pre>MLPClassifier()</pre></div></div></div></div></div>"
      ],
      "text/plain": [
       "MLPClassifier()"
      ]
     },
     "execution_count": 46,
     "metadata": {},
     "output_type": "execute_result"
    }
   ],
   "source": [
    "model2.fit(x_train, y_train)"
   ]
  },
  {
   "cell_type": "code",
   "execution_count": 48,
   "id": "484236d3",
   "metadata": {},
   "outputs": [],
   "source": [
    "y_pred = model2.predict(x_test)"
   ]
  },
  {
   "cell_type": "code",
   "execution_count": 50,
   "id": "4be1afe3",
   "metadata": {},
   "outputs": [
    {
     "ename": "NotFittedError",
     "evalue": "This MLPClassifier instance is not fitted yet. Call 'fit' with appropriate arguments before using this estimator.",
     "output_type": "error",
     "traceback": [
      "\u001b[1;31m---------------------------------------------------------------------------\u001b[0m",
      "\u001b[1;31mNotFittedError\u001b[0m                            Traceback (most recent call last)",
      "Cell \u001b[1;32mIn [50], line 4\u001b[0m\n\u001b[0;32m      2\u001b[0m y_pred \u001b[39m=\u001b[39m model2\u001b[39m.\u001b[39mpredict(x_test)\n\u001b[0;32m      3\u001b[0m model2\u001b[39m.\u001b[39mfit(x_train, y_train)\n\u001b[1;32m----> 4\u001b[0m x_train_prediction \u001b[39m=\u001b[39m classifier\u001b[39m.\u001b[39;49mpredict(x_train)\n\u001b[0;32m      5\u001b[0m training_data_accuracy \u001b[39m=\u001b[39m accuracy_score(x_train_prediction, y_train)\n",
      "File \u001b[1;32mc:\\Users\\Professor Liu\\AppData\\Local\\Programs\\Python\\Python310\\lib\\site-packages\\sklearn\\neural_network\\_multilayer_perceptron.py:1175\u001b[0m, in \u001b[0;36mMLPClassifier.predict\u001b[1;34m(self, X)\u001b[0m\n\u001b[0;32m   1162\u001b[0m \u001b[39mdef\u001b[39;00m \u001b[39mpredict\u001b[39m(\u001b[39mself\u001b[39m, X):\n\u001b[0;32m   1163\u001b[0m     \u001b[39m\"\"\"Predict using the multi-layer perceptron classifier.\u001b[39;00m\n\u001b[0;32m   1164\u001b[0m \n\u001b[0;32m   1165\u001b[0m \u001b[39m    Parameters\u001b[39;00m\n\u001b[1;32m   (...)\u001b[0m\n\u001b[0;32m   1173\u001b[0m \u001b[39m        The predicted classes.\u001b[39;00m\n\u001b[0;32m   1174\u001b[0m \u001b[39m    \"\"\"\u001b[39;00m\n\u001b[1;32m-> 1175\u001b[0m     check_is_fitted(\u001b[39mself\u001b[39;49m)\n\u001b[0;32m   1176\u001b[0m     y_pred \u001b[39m=\u001b[39m \u001b[39mself\u001b[39m\u001b[39m.\u001b[39m_forward_pass_fast(X)\n\u001b[0;32m   1178\u001b[0m     \u001b[39mif\u001b[39;00m \u001b[39mself\u001b[39m\u001b[39m.\u001b[39mn_outputs_ \u001b[39m==\u001b[39m \u001b[39m1\u001b[39m:\n",
      "File \u001b[1;32mc:\\Users\\Professor Liu\\AppData\\Local\\Programs\\Python\\Python310\\lib\\site-packages\\sklearn\\utils\\validation.py:1345\u001b[0m, in \u001b[0;36mcheck_is_fitted\u001b[1;34m(estimator, attributes, msg, all_or_any)\u001b[0m\n\u001b[0;32m   1340\u001b[0m     fitted \u001b[39m=\u001b[39m [\n\u001b[0;32m   1341\u001b[0m         v \u001b[39mfor\u001b[39;00m v \u001b[39min\u001b[39;00m \u001b[39mvars\u001b[39m(estimator) \u001b[39mif\u001b[39;00m v\u001b[39m.\u001b[39mendswith(\u001b[39m\"\u001b[39m\u001b[39m_\u001b[39m\u001b[39m\"\u001b[39m) \u001b[39mand\u001b[39;00m \u001b[39mnot\u001b[39;00m v\u001b[39m.\u001b[39mstartswith(\u001b[39m\"\u001b[39m\u001b[39m__\u001b[39m\u001b[39m\"\u001b[39m)\n\u001b[0;32m   1342\u001b[0m     ]\n\u001b[0;32m   1344\u001b[0m \u001b[39mif\u001b[39;00m \u001b[39mnot\u001b[39;00m fitted:\n\u001b[1;32m-> 1345\u001b[0m     \u001b[39mraise\u001b[39;00m NotFittedError(msg \u001b[39m%\u001b[39m {\u001b[39m\"\u001b[39m\u001b[39mname\u001b[39m\u001b[39m\"\u001b[39m: \u001b[39mtype\u001b[39m(estimator)\u001b[39m.\u001b[39m\u001b[39m__name__\u001b[39m})\n",
      "\u001b[1;31mNotFittedError\u001b[0m: This MLPClassifier instance is not fitted yet. Call 'fit' with appropriate arguments before using this estimator."
     ]
    }
   ],
   "source": [
    "# accuracy score on the training data\n",
    "y_pred = model2.predict(x_test)\n",
    "model2.fit(x_train, y_train)\n",
    "x_train_prediction = classifier.predict(x_train)\n",
    "training_data_accuracy = accuracy_score(x_train_prediction, y_train)"
   ]
  },
  {
   "cell_type": "code",
   "execution_count": null,
   "id": "ae35b845",
   "metadata": {},
   "outputs": [],
   "source": []
  }
 ],
 "metadata": {
  "kernelspec": {
   "display_name": "Python 3",
   "language": "python",
   "name": "python3"
  },
  "language_info": {
   "codemirror_mode": {
    "name": "ipython",
    "version": 3
   },
   "file_extension": ".py",
   "mimetype": "text/x-python",
   "name": "python",
   "nbconvert_exporter": "python",
   "pygments_lexer": "ipython3",
   "version": "3.10.7 (tags/v3.10.7:6cc6b13, Sep  5 2022, 14:08:36) [MSC v.1933 64 bit (AMD64)]"
  },
  "toc": {
   "base_numbering": 1,
   "nav_menu": {},
   "number_sections": true,
   "sideBar": true,
   "skip_h1_title": false,
   "title_cell": "Table of Contents",
   "title_sidebar": "Contents",
   "toc_cell": false,
   "toc_position": {},
   "toc_section_display": true,
   "toc_window_display": false
  },
  "varInspector": {
   "cols": {
    "lenName": 16,
    "lenType": 16,
    "lenVar": 40
   },
   "kernels_config": {
    "python": {
     "delete_cmd_postfix": "",
     "delete_cmd_prefix": "del ",
     "library": "var_list.py",
     "varRefreshCmd": "print(var_dic_list())"
    },
    "r": {
     "delete_cmd_postfix": ") ",
     "delete_cmd_prefix": "rm(",
     "library": "var_list.r",
     "varRefreshCmd": "cat(var_dic_list()) "
    }
   },
   "types_to_exclude": [
    "module",
    "function",
    "builtin_function_or_method",
    "instance",
    "_Feature"
   ],
   "window_display": false
  },
  "vscode": {
   "interpreter": {
    "hash": "e4925a986e12106e189101124f85a35a28b67361e754f481442f35f6cfd8fbb8"
   }
  }
 },
 "nbformat": 4,
 "nbformat_minor": 5
}
